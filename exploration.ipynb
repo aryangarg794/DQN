{
 "cells": [
  {
   "cell_type": "markdown",
   "metadata": {
    "id": "rNDonla6UtLL"
   },
   "source": [
    "### Resources\n",
    "\n",
    "- https://web.stanford.edu/class/psych209/Readings/MnihEtAlHassibis15NatureControlDeepRL.pdf\n",
    "- https://arxiv.org/pdf/1312.5602\n",
    "- https://www.lesswrong.com/posts/kyvCNgx9oAwJCuevo/deep-q-networks-explained"
   ]
  },
  {
   "cell_type": "code",
   "execution_count": 1,
   "metadata": {},
   "outputs": [],
   "source": [
    "import warnings\n",
    "warnings.filterwarnings('ignore')"
   ]
  },
  {
   "cell_type": "code",
   "execution_count": 2,
   "metadata": {
    "execution": {
     "iopub.execute_input": "2024-11-11T23:39:27.913282Z",
     "iopub.status.busy": "2024-11-11T23:39:27.912965Z",
     "iopub.status.idle": "2024-11-11T23:39:33.597815Z",
     "shell.execute_reply": "2024-11-11T23:39:33.597222Z",
     "shell.execute_reply.started": "2024-11-11T23:39:27.913260Z"
    },
    "id": "8p6bFDwGUtLQ"
   },
   "outputs": [],
   "source": [
    "import numpy as np\n",
    "import time\n",
    "import torch\n",
    "import torch.nn as nn\n",
    "import gymnasium as gym\n",
    "import ale_py\n",
    "import matplotlib.pyplot as plt\n",
    "\n",
    "from collections import deque\n",
    "from gymnasium.wrappers import FrameStack\n",
    "from gymnasium.wrappers.frame_stack import LazyFrames\n",
    "from stable_baselines3.common.atari_wrappers import (\n",
    "    AtariWrapper,\n",
    "    FireResetEnv,\n",
    ")\n",
    "\n",
    "gym.register_envs(ale_py)"
   ]
  },
  {
   "cell_type": "code",
   "execution_count": 3,
   "metadata": {},
   "outputs": [
    {
     "data": {
      "text/plain": [
       "'cuda'"
      ]
     },
     "execution_count": 3,
     "metadata": {},
     "output_type": "execute_result"
    }
   ],
   "source": [
    "device = 'cuda' if torch.cuda.is_available() else 'cpu'\n",
    "device"
   ]
  },
  {
   "cell_type": "code",
   "execution_count": 4,
   "metadata": {},
   "outputs": [
    {
     "name": "stdout",
     "output_type": "stream",
     "text": [
      "===== classic_control =====\n",
      "Acrobot-v1                        CartPole-v0                       CartPole-v1\n",
      "MountainCar-v0                    MountainCarContinuous-v0          Pendulum-v1\n",
      "===== phys2d =====\n",
      "phys2d/CartPole-v0                phys2d/CartPole-v1                phys2d/Pendulum-v0\n",
      "===== box2d =====\n",
      "BipedalWalker-v3                  BipedalWalkerHardcore-v3          CarRacing-v2\n",
      "LunarLander-v2                    LunarLanderContinuous-v2\n",
      "===== toy_text =====\n",
      "Blackjack-v1                      CliffWalking-v0                   FrozenLake-v1\n",
      "FrozenLake8x8-v1                  Taxi-v3\n",
      "===== tabular =====\n",
      "tabular/Blackjack-v0              tabular/CliffWalking-v0\n",
      "===== mujoco =====\n",
      "Ant-v2                            Ant-v3                            Ant-v4\n",
      "HalfCheetah-v2                    HalfCheetah-v3                    HalfCheetah-v4\n",
      "Hopper-v2                         Hopper-v3                         Hopper-v4\n",
      "Humanoid-v2                       Humanoid-v3                       Humanoid-v4\n",
      "HumanoidStandup-v2                HumanoidStandup-v4                InvertedDoublePendulum-v2\n",
      "InvertedDoublePendulum-v4         InvertedPendulum-v2               InvertedPendulum-v4\n",
      "Pusher-v2                         Pusher-v4                         Reacher-v2\n",
      "Reacher-v4                        Swimmer-v2                        Swimmer-v3\n",
      "Swimmer-v4                        Walker2d-v2                       Walker2d-v3\n",
      "Walker2d-v4\n",
      "===== None =====\n",
      "GymV21Environment-v0              GymV26Environment-v0\n",
      "===== env =====\n",
      "Adventure-ram-v0                  Adventure-ram-v4                  Adventure-ramDeterministic-v0\n",
      "Adventure-ramDeterministic-v4     Adventure-ramNoFrameskip-v0       Adventure-ramNoFrameskip-v4\n",
      "Adventure-v0                      Adventure-v4                      AdventureDeterministic-v0\n",
      "AdventureDeterministic-v4         AdventureNoFrameskip-v0           AdventureNoFrameskip-v4\n",
      "AirRaid-ram-v0                    AirRaid-ram-v4                    AirRaid-ramDeterministic-v0\n",
      "AirRaid-ramDeterministic-v4       AirRaid-ramNoFrameskip-v0         AirRaid-ramNoFrameskip-v4\n",
      "AirRaid-v0                        AirRaid-v4                        AirRaidDeterministic-v0\n",
      "AirRaidDeterministic-v4           AirRaidNoFrameskip-v0             AirRaidNoFrameskip-v4\n",
      "Alien-ram-v0                      Alien-ram-v4                      Alien-ramDeterministic-v0\n",
      "Alien-ramDeterministic-v4         Alien-ramNoFrameskip-v0           Alien-ramNoFrameskip-v4\n",
      "Alien-v0                          Alien-v4                          AlienDeterministic-v0\n",
      "AlienDeterministic-v4             AlienNoFrameskip-v0               AlienNoFrameskip-v4\n",
      "Amidar-ram-v0                     Amidar-ram-v4                     Amidar-ramDeterministic-v0\n",
      "Amidar-ramDeterministic-v4        Amidar-ramNoFrameskip-v0          Amidar-ramNoFrameskip-v4\n",
      "Amidar-v0                         Amidar-v4                         AmidarDeterministic-v0\n",
      "AmidarDeterministic-v4            AmidarNoFrameskip-v0              AmidarNoFrameskip-v4\n",
      "Assault-ram-v0                    Assault-ram-v4                    Assault-ramDeterministic-v0\n",
      "Assault-ramDeterministic-v4       Assault-ramNoFrameskip-v0         Assault-ramNoFrameskip-v4\n",
      "Assault-v0                        Assault-v4                        AssaultDeterministic-v0\n",
      "AssaultDeterministic-v4           AssaultNoFrameskip-v0             AssaultNoFrameskip-v4\n",
      "Asterix-ram-v0                    Asterix-ram-v4                    Asterix-ramDeterministic-v0\n",
      "Asterix-ramDeterministic-v4       Asterix-ramNoFrameskip-v0         Asterix-ramNoFrameskip-v4\n",
      "Asterix-v0                        Asterix-v4                        AsterixDeterministic-v0\n",
      "AsterixDeterministic-v4           AsterixNoFrameskip-v0             AsterixNoFrameskip-v4\n",
      "Asteroids-ram-v0                  Asteroids-ram-v4                  Asteroids-ramDeterministic-v0\n",
      "Asteroids-ramDeterministic-v4     Asteroids-ramNoFrameskip-v0       Asteroids-ramNoFrameskip-v4\n",
      "Asteroids-v0                      Asteroids-v4                      AsteroidsDeterministic-v0\n",
      "AsteroidsDeterministic-v4         AsteroidsNoFrameskip-v0           AsteroidsNoFrameskip-v4\n",
      "Atlantis-ram-v0                   Atlantis-ram-v4                   Atlantis-ramDeterministic-v0\n",
      "Atlantis-ramDeterministic-v4      Atlantis-ramNoFrameskip-v0        Atlantis-ramNoFrameskip-v4\n",
      "Atlantis-v0                       Atlantis-v4                       AtlantisDeterministic-v0\n",
      "AtlantisDeterministic-v4          AtlantisNoFrameskip-v0            AtlantisNoFrameskip-v4\n",
      "BankHeist-ram-v0                  BankHeist-ram-v4                  BankHeist-ramDeterministic-v0\n",
      "BankHeist-ramDeterministic-v4     BankHeist-ramNoFrameskip-v0       BankHeist-ramNoFrameskip-v4\n",
      "BankHeist-v0                      BankHeist-v4                      BankHeistDeterministic-v0\n",
      "BankHeistDeterministic-v4         BankHeistNoFrameskip-v0           BankHeistNoFrameskip-v4\n",
      "BattleZone-ram-v0                 BattleZone-ram-v4                 BattleZone-ramDeterministic-v0\n",
      "BattleZone-ramDeterministic-v4    BattleZone-ramNoFrameskip-v0      BattleZone-ramNoFrameskip-v4\n",
      "BattleZone-v0                     BattleZone-v4                     BattleZoneDeterministic-v0\n",
      "BattleZoneDeterministic-v4        BattleZoneNoFrameskip-v0          BattleZoneNoFrameskip-v4\n",
      "BeamRider-ram-v0                  BeamRider-ram-v4                  BeamRider-ramDeterministic-v0\n",
      "BeamRider-ramDeterministic-v4     BeamRider-ramNoFrameskip-v0       BeamRider-ramNoFrameskip-v4\n",
      "BeamRider-v0                      BeamRider-v4                      BeamRiderDeterministic-v0\n",
      "BeamRiderDeterministic-v4         BeamRiderNoFrameskip-v0           BeamRiderNoFrameskip-v4\n",
      "Berzerk-ram-v0                    Berzerk-ram-v4                    Berzerk-ramDeterministic-v0\n",
      "Berzerk-ramDeterministic-v4       Berzerk-ramNoFrameskip-v0         Berzerk-ramNoFrameskip-v4\n",
      "Berzerk-v0                        Berzerk-v4                        BerzerkDeterministic-v0\n",
      "BerzerkDeterministic-v4           BerzerkNoFrameskip-v0             BerzerkNoFrameskip-v4\n",
      "Bowling-ram-v0                    Bowling-ram-v4                    Bowling-ramDeterministic-v0\n",
      "Bowling-ramDeterministic-v4       Bowling-ramNoFrameskip-v0         Bowling-ramNoFrameskip-v4\n",
      "Bowling-v0                        Bowling-v4                        BowlingDeterministic-v0\n",
      "BowlingDeterministic-v4           BowlingNoFrameskip-v0             BowlingNoFrameskip-v4\n",
      "Boxing-ram-v0                     Boxing-ram-v4                     Boxing-ramDeterministic-v0\n",
      "Boxing-ramDeterministic-v4        Boxing-ramNoFrameskip-v0          Boxing-ramNoFrameskip-v4\n",
      "Boxing-v0                         Boxing-v4                         BoxingDeterministic-v0\n",
      "BoxingDeterministic-v4            BoxingNoFrameskip-v0              BoxingNoFrameskip-v4\n",
      "Breakout-ram-v0                   Breakout-ram-v4                   Breakout-ramDeterministic-v0\n",
      "Breakout-ramDeterministic-v4      Breakout-ramNoFrameskip-v0        Breakout-ramNoFrameskip-v4\n",
      "Breakout-v0                       Breakout-v4                       BreakoutDeterministic-v0\n",
      "BreakoutDeterministic-v4          BreakoutNoFrameskip-v0            BreakoutNoFrameskip-v4\n",
      "Carnival-ram-v0                   Carnival-ram-v4                   Carnival-ramDeterministic-v0\n",
      "Carnival-ramDeterministic-v4      Carnival-ramNoFrameskip-v0        Carnival-ramNoFrameskip-v4\n",
      "Carnival-v0                       Carnival-v4                       CarnivalDeterministic-v0\n",
      "CarnivalDeterministic-v4          CarnivalNoFrameskip-v0            CarnivalNoFrameskip-v4\n",
      "Centipede-ram-v0                  Centipede-ram-v4                  Centipede-ramDeterministic-v0\n",
      "Centipede-ramDeterministic-v4     Centipede-ramNoFrameskip-v0       Centipede-ramNoFrameskip-v4\n",
      "Centipede-v0                      Centipede-v4                      CentipedeDeterministic-v0\n",
      "CentipedeDeterministic-v4         CentipedeNoFrameskip-v0           CentipedeNoFrameskip-v4\n",
      "ChopperCommand-ram-v0             ChopperCommand-ram-v4             ChopperCommand-ramDeterministic-v0\n",
      "ChopperCommand-ramDeterministic-v4 ChopperCommand-ramNoFrameskip-v0  ChopperCommand-ramNoFrameskip-v4\n",
      "ChopperCommand-v0                 ChopperCommand-v4                 ChopperCommandDeterministic-v0\n",
      "ChopperCommandDeterministic-v4    ChopperCommandNoFrameskip-v0      ChopperCommandNoFrameskip-v4\n",
      "CrazyClimber-ram-v0               CrazyClimber-ram-v4               CrazyClimber-ramDeterministic-v0\n",
      "CrazyClimber-ramDeterministic-v4  CrazyClimber-ramNoFrameskip-v0    CrazyClimber-ramNoFrameskip-v4\n",
      "CrazyClimber-v0                   CrazyClimber-v4                   CrazyClimberDeterministic-v0\n",
      "CrazyClimberDeterministic-v4      CrazyClimberNoFrameskip-v0        CrazyClimberNoFrameskip-v4\n",
      "Defender-ram-v0                   Defender-ram-v4                   Defender-ramDeterministic-v0\n",
      "Defender-ramDeterministic-v4      Defender-ramNoFrameskip-v0        Defender-ramNoFrameskip-v4\n",
      "Defender-v0                       Defender-v4                       DefenderDeterministic-v0\n",
      "DefenderDeterministic-v4          DefenderNoFrameskip-v0            DefenderNoFrameskip-v4\n",
      "DemonAttack-ram-v0                DemonAttack-ram-v4                DemonAttack-ramDeterministic-v0\n",
      "DemonAttack-ramDeterministic-v4   DemonAttack-ramNoFrameskip-v0     DemonAttack-ramNoFrameskip-v4\n",
      "DemonAttack-v0                    DemonAttack-v4                    DemonAttackDeterministic-v0\n",
      "DemonAttackDeterministic-v4       DemonAttackNoFrameskip-v0         DemonAttackNoFrameskip-v4\n",
      "DoubleDunk-ram-v0                 DoubleDunk-ram-v4                 DoubleDunk-ramDeterministic-v0\n",
      "DoubleDunk-ramDeterministic-v4    DoubleDunk-ramNoFrameskip-v0      DoubleDunk-ramNoFrameskip-v4\n",
      "DoubleDunk-v0                     DoubleDunk-v4                     DoubleDunkDeterministic-v0\n",
      "DoubleDunkDeterministic-v4        DoubleDunkNoFrameskip-v0          DoubleDunkNoFrameskip-v4\n",
      "ElevatorAction-ram-v0             ElevatorAction-ram-v4             ElevatorAction-ramDeterministic-v0\n",
      "ElevatorAction-ramDeterministic-v4 ElevatorAction-ramNoFrameskip-v0  ElevatorAction-ramNoFrameskip-v4\n",
      "ElevatorAction-v0                 ElevatorAction-v4                 ElevatorActionDeterministic-v0\n",
      "ElevatorActionDeterministic-v4    ElevatorActionNoFrameskip-v0      ElevatorActionNoFrameskip-v4\n",
      "Enduro-ram-v0                     Enduro-ram-v4                     Enduro-ramDeterministic-v0\n",
      "Enduro-ramDeterministic-v4        Enduro-ramNoFrameskip-v0          Enduro-ramNoFrameskip-v4\n",
      "Enduro-v0                         Enduro-v4                         EnduroDeterministic-v0\n",
      "EnduroDeterministic-v4            EnduroNoFrameskip-v0              EnduroNoFrameskip-v4\n",
      "FishingDerby-ram-v0               FishingDerby-ram-v4               FishingDerby-ramDeterministic-v0\n",
      "FishingDerby-ramDeterministic-v4  FishingDerby-ramNoFrameskip-v0    FishingDerby-ramNoFrameskip-v4\n",
      "FishingDerby-v0                   FishingDerby-v4                   FishingDerbyDeterministic-v0\n",
      "FishingDerbyDeterministic-v4      FishingDerbyNoFrameskip-v0        FishingDerbyNoFrameskip-v4\n",
      "Freeway-ram-v0                    Freeway-ram-v4                    Freeway-ramDeterministic-v0\n",
      "Freeway-ramDeterministic-v4       Freeway-ramNoFrameskip-v0         Freeway-ramNoFrameskip-v4\n",
      "Freeway-v0                        Freeway-v4                        FreewayDeterministic-v0\n",
      "FreewayDeterministic-v4           FreewayNoFrameskip-v0             FreewayNoFrameskip-v4\n",
      "Frostbite-ram-v0                  Frostbite-ram-v4                  Frostbite-ramDeterministic-v0\n",
      "Frostbite-ramDeterministic-v4     Frostbite-ramNoFrameskip-v0       Frostbite-ramNoFrameskip-v4\n",
      "Frostbite-v0                      Frostbite-v4                      FrostbiteDeterministic-v0\n",
      "FrostbiteDeterministic-v4         FrostbiteNoFrameskip-v0           FrostbiteNoFrameskip-v4\n",
      "Gopher-ram-v0                     Gopher-ram-v4                     Gopher-ramDeterministic-v0\n",
      "Gopher-ramDeterministic-v4        Gopher-ramNoFrameskip-v0          Gopher-ramNoFrameskip-v4\n",
      "Gopher-v0                         Gopher-v4                         GopherDeterministic-v0\n",
      "GopherDeterministic-v4            GopherNoFrameskip-v0              GopherNoFrameskip-v4\n",
      "Gravitar-ram-v0                   Gravitar-ram-v4                   Gravitar-ramDeterministic-v0\n",
      "Gravitar-ramDeterministic-v4      Gravitar-ramNoFrameskip-v0        Gravitar-ramNoFrameskip-v4\n",
      "Gravitar-v0                       Gravitar-v4                       GravitarDeterministic-v0\n",
      "GravitarDeterministic-v4          GravitarNoFrameskip-v0            GravitarNoFrameskip-v4\n",
      "Hero-ram-v0                       Hero-ram-v4                       Hero-ramDeterministic-v0\n",
      "Hero-ramDeterministic-v4          Hero-ramNoFrameskip-v0            Hero-ramNoFrameskip-v4\n",
      "Hero-v0                           Hero-v4                           HeroDeterministic-v0\n",
      "HeroDeterministic-v4              HeroNoFrameskip-v0                HeroNoFrameskip-v4\n",
      "IceHockey-ram-v0                  IceHockey-ram-v4                  IceHockey-ramDeterministic-v0\n",
      "IceHockey-ramDeterministic-v4     IceHockey-ramNoFrameskip-v0       IceHockey-ramNoFrameskip-v4\n",
      "IceHockey-v0                      IceHockey-v4                      IceHockeyDeterministic-v0\n",
      "IceHockeyDeterministic-v4         IceHockeyNoFrameskip-v0           IceHockeyNoFrameskip-v4\n",
      "Jamesbond-ram-v0                  Jamesbond-ram-v4                  Jamesbond-ramDeterministic-v0\n",
      "Jamesbond-ramDeterministic-v4     Jamesbond-ramNoFrameskip-v0       Jamesbond-ramNoFrameskip-v4\n",
      "Jamesbond-v0                      Jamesbond-v4                      JamesbondDeterministic-v0\n",
      "JamesbondDeterministic-v4         JamesbondNoFrameskip-v0           JamesbondNoFrameskip-v4\n",
      "JourneyEscape-ram-v0              JourneyEscape-ram-v4              JourneyEscape-ramDeterministic-v0\n",
      "JourneyEscape-ramDeterministic-v4 JourneyEscape-ramNoFrameskip-v0   JourneyEscape-ramNoFrameskip-v4\n",
      "JourneyEscape-v0                  JourneyEscape-v4                  JourneyEscapeDeterministic-v0\n",
      "JourneyEscapeDeterministic-v4     JourneyEscapeNoFrameskip-v0       JourneyEscapeNoFrameskip-v4\n",
      "Kangaroo-ram-v0                   Kangaroo-ram-v4                   Kangaroo-ramDeterministic-v0\n",
      "Kangaroo-ramDeterministic-v4      Kangaroo-ramNoFrameskip-v0        Kangaroo-ramNoFrameskip-v4\n",
      "Kangaroo-v0                       Kangaroo-v4                       KangarooDeterministic-v0\n",
      "KangarooDeterministic-v4          KangarooNoFrameskip-v0            KangarooNoFrameskip-v4\n",
      "Krull-ram-v0                      Krull-ram-v4                      Krull-ramDeterministic-v0\n",
      "Krull-ramDeterministic-v4         Krull-ramNoFrameskip-v0           Krull-ramNoFrameskip-v4\n",
      "Krull-v0                          Krull-v4                          KrullDeterministic-v0\n",
      "KrullDeterministic-v4             KrullNoFrameskip-v0               KrullNoFrameskip-v4\n",
      "KungFuMaster-ram-v0               KungFuMaster-ram-v4               KungFuMaster-ramDeterministic-v0\n",
      "KungFuMaster-ramDeterministic-v4  KungFuMaster-ramNoFrameskip-v0    KungFuMaster-ramNoFrameskip-v4\n",
      "KungFuMaster-v0                   KungFuMaster-v4                   KungFuMasterDeterministic-v0\n",
      "KungFuMasterDeterministic-v4      KungFuMasterNoFrameskip-v0        KungFuMasterNoFrameskip-v4\n",
      "MontezumaRevenge-ram-v0           MontezumaRevenge-ram-v4           MontezumaRevenge-ramDeterministic-v0\n",
      "MontezumaRevenge-ramDeterministic-v4 MontezumaRevenge-ramNoFrameskip-v0 MontezumaRevenge-ramNoFrameskip-v4\n",
      "MontezumaRevenge-v0               MontezumaRevenge-v4               MontezumaRevengeDeterministic-v0\n",
      "MontezumaRevengeDeterministic-v4  MontezumaRevengeNoFrameskip-v0    MontezumaRevengeNoFrameskip-v4\n",
      "MsPacman-ram-v0                   MsPacman-ram-v4                   MsPacman-ramDeterministic-v0\n",
      "MsPacman-ramDeterministic-v4      MsPacman-ramNoFrameskip-v0        MsPacman-ramNoFrameskip-v4\n",
      "MsPacman-v0                       MsPacman-v4                       MsPacmanDeterministic-v0\n",
      "MsPacmanDeterministic-v4          MsPacmanNoFrameskip-v0            MsPacmanNoFrameskip-v4\n",
      "NameThisGame-ram-v0               NameThisGame-ram-v4               NameThisGame-ramDeterministic-v0\n",
      "NameThisGame-ramDeterministic-v4  NameThisGame-ramNoFrameskip-v0    NameThisGame-ramNoFrameskip-v4\n",
      "NameThisGame-v0                   NameThisGame-v4                   NameThisGameDeterministic-v0\n",
      "NameThisGameDeterministic-v4      NameThisGameNoFrameskip-v0        NameThisGameNoFrameskip-v4\n",
      "Phoenix-ram-v0                    Phoenix-ram-v4                    Phoenix-ramDeterministic-v0\n",
      "Phoenix-ramDeterministic-v4       Phoenix-ramNoFrameskip-v0         Phoenix-ramNoFrameskip-v4\n",
      "Phoenix-v0                        Phoenix-v4                        PhoenixDeterministic-v0\n",
      "PhoenixDeterministic-v4           PhoenixNoFrameskip-v0             PhoenixNoFrameskip-v4\n",
      "Pitfall-ram-v0                    Pitfall-ram-v4                    Pitfall-ramDeterministic-v0\n",
      "Pitfall-ramDeterministic-v4       Pitfall-ramNoFrameskip-v0         Pitfall-ramNoFrameskip-v4\n",
      "Pitfall-v0                        Pitfall-v4                        PitfallDeterministic-v0\n",
      "PitfallDeterministic-v4           PitfallNoFrameskip-v0             PitfallNoFrameskip-v4\n",
      "Pong-ram-v0                       Pong-ram-v4                       Pong-ramDeterministic-v0\n",
      "Pong-ramDeterministic-v4          Pong-ramNoFrameskip-v0            Pong-ramNoFrameskip-v4\n",
      "Pong-v0                           Pong-v4                           PongDeterministic-v0\n",
      "PongDeterministic-v4              PongNoFrameskip-v0                PongNoFrameskip-v4\n",
      "Pooyan-ram-v0                     Pooyan-ram-v4                     Pooyan-ramDeterministic-v0\n",
      "Pooyan-ramDeterministic-v4        Pooyan-ramNoFrameskip-v0          Pooyan-ramNoFrameskip-v4\n",
      "Pooyan-v0                         Pooyan-v4                         PooyanDeterministic-v0\n",
      "PooyanDeterministic-v4            PooyanNoFrameskip-v0              PooyanNoFrameskip-v4\n",
      "PrivateEye-ram-v0                 PrivateEye-ram-v4                 PrivateEye-ramDeterministic-v0\n",
      "PrivateEye-ramDeterministic-v4    PrivateEye-ramNoFrameskip-v0      PrivateEye-ramNoFrameskip-v4\n",
      "PrivateEye-v0                     PrivateEye-v4                     PrivateEyeDeterministic-v0\n",
      "PrivateEyeDeterministic-v4        PrivateEyeNoFrameskip-v0          PrivateEyeNoFrameskip-v4\n",
      "Qbert-ram-v0                      Qbert-ram-v4                      Qbert-ramDeterministic-v0\n",
      "Qbert-ramDeterministic-v4         Qbert-ramNoFrameskip-v0           Qbert-ramNoFrameskip-v4\n",
      "Qbert-v0                          Qbert-v4                          QbertDeterministic-v0\n",
      "QbertDeterministic-v4             QbertNoFrameskip-v0               QbertNoFrameskip-v4\n",
      "Riverraid-ram-v0                  Riverraid-ram-v4                  Riverraid-ramDeterministic-v0\n",
      "Riverraid-ramDeterministic-v4     Riverraid-ramNoFrameskip-v0       Riverraid-ramNoFrameskip-v4\n",
      "Riverraid-v0                      Riverraid-v4                      RiverraidDeterministic-v0\n",
      "RiverraidDeterministic-v4         RiverraidNoFrameskip-v0           RiverraidNoFrameskip-v4\n",
      "RoadRunner-ram-v0                 RoadRunner-ram-v4                 RoadRunner-ramDeterministic-v0\n",
      "RoadRunner-ramDeterministic-v4    RoadRunner-ramNoFrameskip-v0      RoadRunner-ramNoFrameskip-v4\n",
      "RoadRunner-v0                     RoadRunner-v4                     RoadRunnerDeterministic-v0\n",
      "RoadRunnerDeterministic-v4        RoadRunnerNoFrameskip-v0          RoadRunnerNoFrameskip-v4\n",
      "Robotank-ram-v0                   Robotank-ram-v4                   Robotank-ramDeterministic-v0\n",
      "Robotank-ramDeterministic-v4      Robotank-ramNoFrameskip-v0        Robotank-ramNoFrameskip-v4\n",
      "Robotank-v0                       Robotank-v4                       RobotankDeterministic-v0\n",
      "RobotankDeterministic-v4          RobotankNoFrameskip-v0            RobotankNoFrameskip-v4\n",
      "Seaquest-ram-v0                   Seaquest-ram-v4                   Seaquest-ramDeterministic-v0\n",
      "Seaquest-ramDeterministic-v4      Seaquest-ramNoFrameskip-v0        Seaquest-ramNoFrameskip-v4\n",
      "Seaquest-v0                       Seaquest-v4                       SeaquestDeterministic-v0\n",
      "SeaquestDeterministic-v4          SeaquestNoFrameskip-v0            SeaquestNoFrameskip-v4\n",
      "Skiing-ram-v0                     Skiing-ram-v4                     Skiing-ramDeterministic-v0\n",
      "Skiing-ramDeterministic-v4        Skiing-ramNoFrameskip-v0          Skiing-ramNoFrameskip-v4\n",
      "Skiing-v0                         Skiing-v4                         SkiingDeterministic-v0\n",
      "SkiingDeterministic-v4            SkiingNoFrameskip-v0              SkiingNoFrameskip-v4\n",
      "Solaris-ram-v0                    Solaris-ram-v4                    Solaris-ramDeterministic-v0\n",
      "Solaris-ramDeterministic-v4       Solaris-ramNoFrameskip-v0         Solaris-ramNoFrameskip-v4\n",
      "Solaris-v0                        Solaris-v4                        SolarisDeterministic-v0\n",
      "SolarisDeterministic-v4           SolarisNoFrameskip-v0             SolarisNoFrameskip-v4\n",
      "SpaceInvaders-ram-v0              SpaceInvaders-ram-v4              SpaceInvaders-ramDeterministic-v0\n",
      "SpaceInvaders-ramDeterministic-v4 SpaceInvaders-ramNoFrameskip-v0   SpaceInvaders-ramNoFrameskip-v4\n",
      "SpaceInvaders-v0                  SpaceInvaders-v4                  SpaceInvadersDeterministic-v0\n",
      "SpaceInvadersDeterministic-v4     SpaceInvadersNoFrameskip-v0       SpaceInvadersNoFrameskip-v4\n",
      "StarGunner-ram-v0                 StarGunner-ram-v4                 StarGunner-ramDeterministic-v0\n",
      "StarGunner-ramDeterministic-v4    StarGunner-ramNoFrameskip-v0      StarGunner-ramNoFrameskip-v4\n",
      "StarGunner-v0                     StarGunner-v4                     StarGunnerDeterministic-v0\n",
      "StarGunnerDeterministic-v4        StarGunnerNoFrameskip-v0          StarGunnerNoFrameskip-v4\n",
      "Tennis-ram-v0                     Tennis-ram-v4                     Tennis-ramDeterministic-v0\n",
      "Tennis-ramDeterministic-v4        Tennis-ramNoFrameskip-v0          Tennis-ramNoFrameskip-v4\n",
      "Tennis-v0                         Tennis-v4                         TennisDeterministic-v0\n",
      "TennisDeterministic-v4            TennisNoFrameskip-v0              TennisNoFrameskip-v4\n",
      "TimePilot-ram-v0                  TimePilot-ram-v4                  TimePilot-ramDeterministic-v0\n",
      "TimePilot-ramDeterministic-v4     TimePilot-ramNoFrameskip-v0       TimePilot-ramNoFrameskip-v4\n",
      "TimePilot-v0                      TimePilot-v4                      TimePilotDeterministic-v0\n",
      "TimePilotDeterministic-v4         TimePilotNoFrameskip-v0           TimePilotNoFrameskip-v4\n",
      "Tutankham-ram-v0                  Tutankham-ram-v4                  Tutankham-ramDeterministic-v0\n",
      "Tutankham-ramDeterministic-v4     Tutankham-ramNoFrameskip-v0       Tutankham-ramNoFrameskip-v4\n",
      "Tutankham-v0                      Tutankham-v4                      TutankhamDeterministic-v0\n",
      "TutankhamDeterministic-v4         TutankhamNoFrameskip-v0           TutankhamNoFrameskip-v4\n",
      "UpNDown-ram-v0                    UpNDown-ram-v4                    UpNDown-ramDeterministic-v0\n",
      "UpNDown-ramDeterministic-v4       UpNDown-ramNoFrameskip-v0         UpNDown-ramNoFrameskip-v4\n",
      "UpNDown-v0                        UpNDown-v4                        UpNDownDeterministic-v0\n",
      "UpNDownDeterministic-v4           UpNDownNoFrameskip-v0             UpNDownNoFrameskip-v4\n",
      "Venture-ram-v0                    Venture-ram-v4                    Venture-ramDeterministic-v0\n",
      "Venture-ramDeterministic-v4       Venture-ramNoFrameskip-v0         Venture-ramNoFrameskip-v4\n",
      "Venture-v0                        Venture-v4                        VentureDeterministic-v0\n",
      "VentureDeterministic-v4           VentureNoFrameskip-v0             VentureNoFrameskip-v4\n",
      "VideoPinball-ram-v0               VideoPinball-ram-v4               VideoPinball-ramDeterministic-v0\n",
      "VideoPinball-ramDeterministic-v4  VideoPinball-ramNoFrameskip-v0    VideoPinball-ramNoFrameskip-v4\n",
      "VideoPinball-v0                   VideoPinball-v4                   VideoPinballDeterministic-v0\n",
      "VideoPinballDeterministic-v4      VideoPinballNoFrameskip-v0        VideoPinballNoFrameskip-v4\n",
      "WizardOfWor-ram-v0                WizardOfWor-ram-v4                WizardOfWor-ramDeterministic-v0\n",
      "WizardOfWor-ramDeterministic-v4   WizardOfWor-ramNoFrameskip-v0     WizardOfWor-ramNoFrameskip-v4\n",
      "WizardOfWor-v0                    WizardOfWor-v4                    WizardOfWorDeterministic-v0\n",
      "WizardOfWorDeterministic-v4       WizardOfWorNoFrameskip-v0         WizardOfWorNoFrameskip-v4\n",
      "YarsRevenge-ram-v0                YarsRevenge-ram-v4                YarsRevenge-ramDeterministic-v0\n",
      "YarsRevenge-ramDeterministic-v4   YarsRevenge-ramNoFrameskip-v0     YarsRevenge-ramNoFrameskip-v4\n",
      "YarsRevenge-v0                    YarsRevenge-v4                    YarsRevengeDeterministic-v0\n",
      "YarsRevengeDeterministic-v4       YarsRevengeNoFrameskip-v0         YarsRevengeNoFrameskip-v4\n",
      "Zaxxon-ram-v0                     Zaxxon-ram-v4                     Zaxxon-ramDeterministic-v0\n",
      "Zaxxon-ramDeterministic-v4        Zaxxon-ramNoFrameskip-v0          Zaxxon-ramNoFrameskip-v4\n",
      "Zaxxon-v0                         Zaxxon-v4                         ZaxxonDeterministic-v0\n",
      "ZaxxonDeterministic-v4            ZaxxonNoFrameskip-v0              ZaxxonNoFrameskip-v4\n",
      "===== ALE =====\n",
      "ALE/Adventure-ram-v5              ALE/Adventure-v5                  ALE/AirRaid-ram-v5\n",
      "ALE/AirRaid-v5                    ALE/Alien-ram-v5                  ALE/Alien-v5\n",
      "ALE/Amidar-ram-v5                 ALE/Amidar-v5                     ALE/Assault-ram-v5\n",
      "ALE/Assault-v5                    ALE/Asterix-ram-v5                ALE/Asterix-v5\n",
      "ALE/Asteroids-ram-v5              ALE/Asteroids-v5                  ALE/Atlantis-ram-v5\n",
      "ALE/Atlantis-v5                   ALE/Atlantis2-ram-v5              ALE/Atlantis2-v5\n",
      "ALE/Backgammon-ram-v5             ALE/Backgammon-v5                 ALE/BankHeist-ram-v5\n",
      "ALE/BankHeist-v5                  ALE/BasicMath-ram-v5              ALE/BasicMath-v5\n",
      "ALE/BattleZone-ram-v5             ALE/BattleZone-v5                 ALE/BeamRider-ram-v5\n",
      "ALE/BeamRider-v5                  ALE/Berzerk-ram-v5                ALE/Berzerk-v5\n",
      "ALE/Blackjack-ram-v5              ALE/Blackjack-v5                  ALE/Bowling-ram-v5\n",
      "ALE/Bowling-v5                    ALE/Boxing-ram-v5                 ALE/Boxing-v5\n",
      "ALE/Breakout-ram-v5               ALE/Breakout-v5                   ALE/Carnival-ram-v5\n",
      "ALE/Carnival-v5                   ALE/Casino-ram-v5                 ALE/Casino-v5\n",
      "ALE/Centipede-ram-v5              ALE/Centipede-v5                  ALE/ChopperCommand-ram-v5\n",
      "ALE/ChopperCommand-v5             ALE/Combat-ram-v5                 ALE/Combat-v5\n",
      "ALE/CrazyClimber-ram-v5           ALE/CrazyClimber-v5               ALE/Crossbow-ram-v5\n",
      "ALE/Crossbow-v5                   ALE/Darkchambers-ram-v5           ALE/Darkchambers-v5\n",
      "ALE/Defender-ram-v5               ALE/Defender-v5                   ALE/DemonAttack-ram-v5\n",
      "ALE/DemonAttack-v5                ALE/DonkeyKong-ram-v5             ALE/DonkeyKong-v5\n",
      "ALE/DoubleDunk-ram-v5             ALE/DoubleDunk-v5                 ALE/Earthworld-ram-v5\n",
      "ALE/Earthworld-v5                 ALE/ElevatorAction-ram-v5         ALE/ElevatorAction-v5\n",
      "ALE/Enduro-ram-v5                 ALE/Enduro-v5                     ALE/Entombed-ram-v5\n",
      "ALE/Entombed-v5                   ALE/Et-ram-v5                     ALE/Et-v5\n",
      "ALE/FishingDerby-ram-v5           ALE/FishingDerby-v5               ALE/FlagCapture-ram-v5\n",
      "ALE/FlagCapture-v5                ALE/Freeway-ram-v5                ALE/Freeway-v5\n",
      "ALE/Frogger-ram-v5                ALE/Frogger-v5                    ALE/Frostbite-ram-v5\n",
      "ALE/Frostbite-v5                  ALE/Galaxian-ram-v5               ALE/Galaxian-v5\n",
      "ALE/Gopher-ram-v5                 ALE/Gopher-v5                     ALE/Gravitar-ram-v5\n",
      "ALE/Gravitar-v5                   ALE/Hangman-ram-v5                ALE/Hangman-v5\n",
      "ALE/HauntedHouse-ram-v5           ALE/HauntedHouse-v5               ALE/Hero-ram-v5\n",
      "ALE/Hero-v5                       ALE/HumanCannonball-ram-v5        ALE/HumanCannonball-v5\n",
      "ALE/IceHockey-ram-v5              ALE/IceHockey-v5                  ALE/Jamesbond-ram-v5\n",
      "ALE/Jamesbond-v5                  ALE/JourneyEscape-ram-v5          ALE/JourneyEscape-v5\n",
      "ALE/Joust-ram-v5                  ALE/Joust-v5                      ALE/Kaboom-ram-v5\n",
      "ALE/Kaboom-v5                     ALE/Kangaroo-ram-v5               ALE/Kangaroo-v5\n",
      "ALE/KeystoneKapers-ram-v5         ALE/KeystoneKapers-v5             ALE/KingKong-ram-v5\n",
      "ALE/KingKong-v5                   ALE/Klax-ram-v5                   ALE/Klax-v5\n",
      "ALE/Koolaid-ram-v5                ALE/Koolaid-v5                    ALE/Krull-ram-v5\n",
      "ALE/Krull-v5                      ALE/KungFuMaster-ram-v5           ALE/KungFuMaster-v5\n",
      "ALE/LaserGates-ram-v5             ALE/LaserGates-v5                 ALE/LostLuggage-ram-v5\n",
      "ALE/LostLuggage-v5                ALE/MarioBros-ram-v5              ALE/MarioBros-v5\n",
      "ALE/MazeCraze-ram-v5              ALE/MazeCraze-v5                  ALE/MiniatureGolf-ram-v5\n",
      "ALE/MiniatureGolf-v5              ALE/MontezumaRevenge-ram-v5       ALE/MontezumaRevenge-v5\n",
      "ALE/MrDo-ram-v5                   ALE/MrDo-v5                       ALE/MsPacman-ram-v5\n",
      "ALE/MsPacman-v5                   ALE/NameThisGame-ram-v5           ALE/NameThisGame-v5\n",
      "ALE/Othello-ram-v5                ALE/Othello-v5                    ALE/Pacman-ram-v5\n",
      "ALE/Pacman-v5                     ALE/Phoenix-ram-v5                ALE/Phoenix-v5\n",
      "ALE/Pitfall-ram-v5                ALE/Pitfall-v5                    ALE/Pitfall2-ram-v5\n",
      "ALE/Pitfall2-v5                   ALE/Pong-ram-v5                   ALE/Pong-v5\n",
      "ALE/Pooyan-ram-v5                 ALE/Pooyan-v5                     ALE/PrivateEye-ram-v5\n",
      "ALE/PrivateEye-v5                 ALE/Qbert-ram-v5                  ALE/Qbert-v5\n",
      "ALE/Riverraid-ram-v5              ALE/Riverraid-v5                  ALE/RoadRunner-ram-v5\n",
      "ALE/RoadRunner-v5                 ALE/Robotank-ram-v5               ALE/Robotank-v5\n",
      "ALE/Seaquest-ram-v5               ALE/Seaquest-v5                   ALE/SirLancelot-ram-v5\n",
      "ALE/SirLancelot-v5                ALE/Skiing-ram-v5                 ALE/Skiing-v5\n",
      "ALE/Solaris-ram-v5                ALE/Solaris-v5                    ALE/SpaceInvaders-ram-v5\n",
      "ALE/SpaceInvaders-v5              ALE/SpaceWar-ram-v5               ALE/SpaceWar-v5\n",
      "ALE/StarGunner-ram-v5             ALE/StarGunner-v5                 ALE/Superman-ram-v5\n",
      "ALE/Superman-v5                   ALE/Surround-ram-v5               ALE/Surround-v5\n",
      "ALE/Tennis-ram-v5                 ALE/Tennis-v5                     ALE/Tetris-ram-v5\n",
      "ALE/Tetris-v5                     ALE/TicTacToe3D-ram-v5            ALE/TicTacToe3D-v5\n",
      "ALE/TimePilot-ram-v5              ALE/TimePilot-v5                  ALE/Trondead-ram-v5\n",
      "ALE/Trondead-v5                   ALE/Turmoil-ram-v5                ALE/Turmoil-v5\n",
      "ALE/Tutankham-ram-v5              ALE/Tutankham-v5                  ALE/UpNDown-ram-v5\n",
      "ALE/UpNDown-v5                    ALE/Venture-ram-v5                ALE/Venture-v5\n",
      "ALE/VideoCheckers-ram-v5          ALE/VideoCheckers-v5              ALE/VideoChess-ram-v5\n",
      "ALE/VideoChess-v5                 ALE/VideoCube-ram-v5              ALE/VideoCube-v5\n",
      "ALE/VideoPinball-ram-v5           ALE/VideoPinball-v5               ALE/Warlords-ram-v5\n",
      "ALE/Warlords-v5                   ALE/WizardOfWor-ram-v5            ALE/WizardOfWor-v5\n",
      "ALE/WordZapper-ram-v5             ALE/WordZapper-v5                 ALE/YarsRevenge-ram-v5\n",
      "ALE/YarsRevenge-v5                ALE/Zaxxon-ram-v5                 ALE/Zaxxon-v5\n"
     ]
    }
   ],
   "source": [
    "gym.pprint_registry()"
   ]
  },
  {
   "cell_type": "markdown",
   "metadata": {
    "id": "vVsLT3IJUtLR"
   },
   "source": [
    "Helper functions"
   ]
  },
  {
   "cell_type": "code",
   "execution_count": 5,
   "metadata": {
    "execution": {
     "iopub.execute_input": "2024-11-11T23:39:33.599404Z",
     "iopub.status.busy": "2024-11-11T23:39:33.598856Z",
     "iopub.status.idle": "2024-11-11T23:39:33.603184Z",
     "shell.execute_reply": "2024-11-11T23:39:33.602543Z",
     "shell.execute_reply.started": "2024-11-11T23:39:33.599370Z"
    },
    "id": "SN1JaFMNUtLR"
   },
   "outputs": [],
   "source": [
    "def display_frame(frame, gray=False):\n",
    "    if gray:\n",
    "        plt.imshow(frame, cmap='gray')\n",
    "    else:\n",
    "        plt.imshow(frame)\n",
    "    plt.axis('off')\n",
    "    plt.show()"
   ]
  },
  {
   "cell_type": "code",
   "execution_count": 6,
   "metadata": {
    "execution": {
     "iopub.execute_input": "2024-11-11T23:39:34.923366Z",
     "iopub.status.busy": "2024-11-11T23:39:34.923022Z",
     "iopub.status.idle": "2024-11-11T23:39:34.927294Z",
     "shell.execute_reply": "2024-11-11T23:39:34.926641Z",
     "shell.execute_reply.started": "2024-11-11T23:39:34.923344Z"
    },
    "id": "kwBF80aEUtLS"
   },
   "outputs": [],
   "source": [
    "def display_multiple_frames(frames):\n",
    "    fig, axes = plt.subplots(1, 4, figsize=(15, 5))\n",
    "    for i, ax in enumerate(axes):\n",
    "        ax.imshow(frames[i], cmap='gray')\n",
    "        ax.axis('off')\n",
    "    plt.show()"
   ]
  },
  {
   "cell_type": "code",
   "execution_count": 4,
   "metadata": {},
   "outputs": [],
   "source": [
    "class LazyFramesToNumpyWrapper(gym.ObservationWrapper):\n",
    "    def __init__(self, env):\n",
    "        super().__init__(env)\n",
    "        self.env = env\n",
    "\n",
    "    def observation(self, observation):\n",
    "        if isinstance(observation, LazyFrames):\n",
    "            return np.array(observation)\n",
    "        return observation"
   ]
  },
  {
   "cell_type": "code",
   "execution_count": 5,
   "metadata": {
    "execution": {
     "iopub.execute_input": "2024-11-11T23:51:03.780304Z",
     "iopub.status.busy": "2024-11-11T23:51:03.779976Z",
     "iopub.status.idle": "2024-11-11T23:51:03.784161Z",
     "shell.execute_reply": "2024-11-11T23:51:03.783388Z",
     "shell.execute_reply.started": "2024-11-11T23:51:03.780284Z"
    },
    "id": "t2iioEZWUtLS"
   },
   "outputs": [],
   "source": [
    "def make_env(game, render='rgb_array'):\n",
    "    env = gym.make(game, render_mode=render)\n",
    "    env = AtariWrapper(env, terminal_on_life_loss=False, frame_skip=4)\n",
    "    env = FrameStack(env, num_stack=4)\n",
    "    env = LazyFramesToNumpyWrapper(env)\n",
    "    if \"FIRE\" in env.unwrapped.get_action_meanings():\n",
    "        env = FireResetEnv(env)\n",
    "    return env"
   ]
  },
  {
   "cell_type": "markdown",
   "metadata": {
    "id": "JWyj-fAFUtLT"
   },
   "source": [
    "### Experience Replay"
   ]
  },
  {
   "cell_type": "code",
   "execution_count": 6,
   "metadata": {
    "execution": {
     "iopub.execute_input": "2024-11-11T23:51:11.931867Z",
     "iopub.status.busy": "2024-11-11T23:51:11.931525Z",
     "iopub.status.idle": "2024-11-11T23:51:11.940279Z",
     "shell.execute_reply": "2024-11-11T23:51:11.939504Z",
     "shell.execute_reply.started": "2024-11-11T23:51:11.931845Z"
    },
    "id": "ti6IvoK8UtLT"
   },
   "outputs": [],
   "source": [
    "# some aspects of the replay buffer were inspired by https://www.lesswrong.com/posts/kyvCNgx9oAwJCuevo/deep-q-networks-explained\n",
    "# since it was quite slow at the beginning\n",
    "\n",
    "class ReplayBuffer:\n",
    "\n",
    "    def __init__(self, capacity) -> None:\n",
    "        self.capacity = capacity\n",
    "        self._buffer =  np.zeros((capacity,), dtype=object)\n",
    "        self._position = 0\n",
    "        self._size = 0\n",
    "\n",
    "    def store(self, experience: tuple) -> None:\n",
    "        idx = self._position % self.capacity\n",
    "        self._buffer[idx] = experience\n",
    "        self._position += 1\n",
    "        self._size = min(self._size + 1, self.capacity)\n",
    "\n",
    "    def sample(self, batch_size, device='cuda'):\n",
    "        buffer = self._buffer[0:min(self._position-1, self.capacity-1)]\n",
    "        batch = np.random.choice(buffer, size=[batch_size], replace=True)\n",
    "        return (\n",
    "            self.transform(batch, 0, shape=(batch_size, 4, 84, 84), dtype=torch.float32, device=device),\n",
    "            self.transform(batch, 1, shape=(batch_size, 1), dtype=torch.int64, device=device),\n",
    "            self.transform(batch, 2, shape=(batch_size, 1), dtype=torch.float32, device=device),\n",
    "            self.transform(batch, 3, shape=(batch_size, 4, 84, 84), dtype=torch.float32, device=device),\n",
    "            self.transform(batch, 4, shape=(batch_size, 1), dtype=torch.bool, device=device)\n",
    "        )\n",
    "        \n",
    "    def transform(self, batch, index, shape, dtype, device):\n",
    "        batched_values = np.array([val[index] for val in batch]).reshape(shape)\n",
    "        batched_values = torch.as_tensor(batched_values, dtype=dtype, device=device)\n",
    "        return batched_values\n",
    "\n",
    "    def __len__(self):\n",
    "        return self._size\n",
    "\n",
    "    def __getitem__(self, index):\n",
    "        return self._buffer[index]\n",
    "\n",
    "    def __setitem__(self, index, value: tuple):\n",
    "        self._buffer[index] = value\n",
    "            "
   ]
  },
  {
   "cell_type": "code",
   "execution_count": 10,
   "metadata": {
    "colab": {
     "base_uri": "https://localhost:8080/"
    },
    "execution": {
     "iopub.execute_input": "2024-11-11T23:51:13.724500Z",
     "iopub.status.busy": "2024-11-11T23:51:13.724178Z",
     "iopub.status.idle": "2024-11-11T23:55:00.276479Z",
     "shell.execute_reply": "2024-11-11T23:55:00.275794Z",
     "shell.execute_reply.started": "2024-11-11T23:51:13.724481Z"
    },
    "id": "t1xMD1agUtLT",
    "outputId": "030b8261-979b-49ce-855e-a3161edc8925"
   },
   "outputs": [],
   "source": [
    "def load_buffer(preload, capacity, game):\n",
    "    env = make_env(game)\n",
    "    buffer = ReplayBuffer(capacity)\n",
    "\n",
    "    observation, _ = env.reset()\n",
    "    for _ in range(preload):    \n",
    "        action = env.action_space.sample()\n",
    "\n",
    "        observation_prime, reward, terminated, truncated, _ = env.step(action)\n",
    "        buffer.store((\n",
    "            observation.squeeze(), \n",
    "            action, \n",
    "            reward, \n",
    "            observation_prime.squeeze(), \n",
    "            terminated or truncated))\n",
    "        observation = observation_prime\n",
    "\n",
    "        done = terminated or truncated\n",
    "        if done:\n",
    "            observation, _ = env.reset()\n",
    "    \n",
    "    print(len(buffer))        \n",
    "    return buffer, env"
   ]
  },
  {
   "cell_type": "code",
   "execution_count": 11,
   "metadata": {},
   "outputs": [
    {
     "name": "stdout",
     "output_type": "stream",
     "text": [
      "100\n"
     ]
    }
   ],
   "source": [
    "test_buffer, _ = load_buffer(100, 1000, 'PongNoFrameskip-v4')"
   ]
  },
  {
   "cell_type": "code",
   "execution_count": 12,
   "metadata": {
    "colab": {
     "base_uri": "https://localhost:8080/",
     "height": 306
    },
    "execution": {
     "iopub.execute_input": "2024-11-11T23:55:00.277795Z",
     "iopub.status.busy": "2024-11-11T23:55:00.277460Z",
     "iopub.status.idle": "2024-11-11T23:55:00.370240Z",
     "shell.execute_reply": "2024-11-11T23:55:00.369659Z",
     "shell.execute_reply.started": "2024-11-11T23:55:00.277776Z"
    },
    "id": "4naELqhxUtLT",
    "outputId": "8ae8045c-0fd7-4da5-8ec8-393fd79866bd"
   },
   "outputs": [
    {
     "name": "stdout",
     "output_type": "stream",
     "text": [
      "(4, 84, 84)\n"
     ]
    },
    {
     "data": {
      "image/png": "[encoded data removed]",
      "text/plain": [
       "<Figure size 1500x500 with 4 Axes>"
      ]
     },
     "metadata": {},
     "output_type": "display_data"
    }
   ],
   "source": [
    "frame = test_buffer[10][3]\n",
    "print(frame.shape)\n",
    "display_multiple_frames(frame)"
   ]
  },
  {
   "cell_type": "code",
   "execution_count": 7,
   "metadata": {
    "execution": {
     "iopub.execute_input": "2024-11-12T00:28:15.751279Z",
     "iopub.status.busy": "2024-11-12T00:28:15.750977Z",
     "iopub.status.idle": "2024-11-12T00:28:15.759495Z",
     "shell.execute_reply": "2024-11-12T00:28:15.758873Z",
     "shell.execute_reply.started": "2024-11-12T00:28:15.751258Z"
    },
    "id": "1BarzFKfUtLU"
   },
   "outputs": [],
   "source": [
    "class DQN(nn.Module):\n",
    "\n",
    "    def __init__(\n",
    "        self,\n",
    "        env,\n",
    "        in_channels = 4,\n",
    "        hidden_filters = [16, 32],\n",
    "        start_epsilon = 0.99,\n",
    "        max_decay = 0.1,\n",
    "        decay_steps = 1000,\n",
    "        *args,\n",
    "        **kwargs\n",
    "    ) -> None:\n",
    "        super().__init__(*args, **kwargs)\n",
    "\n",
    "        self.start_epsilon = start_epsilon\n",
    "        self.epsilon = start_epsilon\n",
    "        self.max_decay = max_decay\n",
    "        self.decay_steps = decay_steps\n",
    "        self.env = env\n",
    "        self.num_actions = env.action_space.n\n",
    "\n",
    "        self.layers = nn.Sequential(\n",
    "            nn.Conv2d(in_channels, hidden_filters[0], kernel_size=8, stride=4),\n",
    "            nn.ReLU(),\n",
    "            nn.Conv2d(hidden_filters[0], hidden_filters[1], kernel_size=4, stride=2),\n",
    "            nn.ReLU(),\n",
    "            nn.Flatten(start_dim=1),\n",
    "            nn.Linear(hidden_filters[1] * 9 * 9, 512),\n",
    "            nn.ReLU(),\n",
    "            nn.Linear(512, self.num_actions)\n",
    "        )\n",
    "\n",
    "        self.apply(self._init)\n",
    "\n",
    "    def _init(self, m):\n",
    "      if isinstance(m, (nn.Linear, nn.Conv2d)):\n",
    "        nn.init.kaiming_normal_(m.weight, nonlinearity='relu')\n",
    "        if m.bias is not None:\n",
    "          nn.init.zeros_(m.bias)\n",
    "\n",
    "    def forward(self, x):\n",
    "        return self.layers(x / 255.0)\n",
    "\n",
    "    def epsilon_greedy(self, state, dim=1):\n",
    "        rng = np.random.random()\n",
    "\n",
    "        if rng < self.epsilon:\n",
    "            action = self.env.action_space.sample()\n",
    "            action = torch.tensor(action)\n",
    "        else:\n",
    "            with torch.no_grad():\n",
    "                q_values = self(state)\n",
    "            \n",
    "            action = torch.argmax(q_values, dim=dim)\n",
    "\n",
    "        return action\n",
    "\n",
    "    def epsilon_decay(self, step):\n",
    "        self.epsilon = self.max_decay + (self.start_epsilon - self.max_decay) * max(0, (self.decay_steps - step) / self.decay_steps)\n"
   ]
  },
  {
   "cell_type": "code",
   "execution_count": 14,
   "metadata": {},
   "outputs": [],
   "source": [
    "class MetricTracker:\n",
    "    def __init__(self, window_size=100):\n",
    "        self.window_size = window_size\n",
    "        self.rewards = deque(maxlen=window_size)\n",
    "        self.episode_lengths = deque(maxlen=window_size)\n",
    "        self.current_episode_reward = 0\n",
    "        self.current_episode_length = 0\n",
    "        \n",
    "    def add_step_reward(self, reward):\n",
    "        self.current_episode_reward += reward\n",
    "        self.current_episode_length += 1\n",
    "        \n",
    "    def end_episode(self):\n",
    "        self.rewards.append(self.current_episode_reward)\n",
    "        self.episode_lengths.append(self.current_episode_length)\n",
    "        self.current_episode_reward = 0\n",
    "        self.current_episode_length = 0\n",
    "        \n",
    "    @property\n",
    "    def avg_reward(self):\n",
    "        return np.mean(self.rewards) if self.rewards else 0\n",
    "        \n",
    "    @property\n",
    "    def avg_episode_length(self):\n",
    "        return np.mean(self.episode_lengths) if self.episode_lengths else 0"
   ]
  },
  {
   "cell_type": "markdown",
   "metadata": {
    "id": "3PhWZY8OUtLU"
   },
   "source": [
    "Training procedure"
   ]
  },
  {
   "cell_type": "code",
   "execution_count": 15,
   "metadata": {},
   "outputs": [],
   "source": [
    "def train(\n",
    "    env, \n",
    "    name, \n",
    "    q_network, \n",
    "    target_network, \n",
    "    optimizer, \n",
    "    timesteps, \n",
    "    replay, \n",
    "    metrics, \n",
    "    train_freq, \n",
    "    batch_size, \n",
    "    gamma, \n",
    "    decay_start,\n",
    "    C,\n",
    "    best_avg_reward,\n",
    "    scheduler_step,\n",
    "    save_step=850000,\n",
    "):\n",
    "    loss_func = nn.MSELoss()\n",
    "    start_time = time.time()\n",
    "    episode_count = 0\n",
    "    best_avg_reward = -float('inf')\n",
    "    \n",
    "    scheduler = torch.optim.lr_scheduler.StepLR(optimizer, step_size=scheduler_step, gamma=0.5)\n",
    "    \n",
    "    obs, _ = env.reset()\n",
    "    \n",
    "    for step in range(1, timesteps+1):\n",
    "        batched_obs = np.expand_dims(obs.squeeze(), axis=0)\n",
    "        action = q_network.epsilon_greedy(torch.as_tensor(batched_obs, dtype=torch.float32, device=device)).cpu().item()\n",
    "        obs_prime, reward, terminated, truncated, _ = env.step(action)\n",
    "\n",
    "        \n",
    "        replay.store((obs.squeeze(), action, reward, obs_prime.squeeze(), terminated or truncated))\n",
    "        metrics.add_step_reward(reward)\n",
    "        obs = obs_prime\n",
    "\n",
    "        if step % train_freq == 0:\n",
    "            observations, actions, rewards, observation_primes, dones = replay.sample(batch_size)\n",
    "            \n",
    "            with torch.no_grad():\n",
    "                q_values_minus = target_network(observation_primes)\n",
    "                boostrapped_values = torch.amax(q_values_minus, dim=1, keepdim=True)\n",
    "\n",
    "            y_trues = torch.where(dones, rewards, rewards + gamma * boostrapped_values)\n",
    "            y_preds = q_network(observations)\n",
    "\n",
    "            loss = loss_func(y_preds.gather(1, actions), y_trues)\n",
    "\n",
    "            optimizer.zero_grad()\n",
    "            loss.backward()\n",
    "            optimizer.step()\n",
    "            \n",
    "        scheduler.step()\n",
    "            \n",
    "        if step > decay_start: \n",
    "            q_network.epsilon_decay(step)\n",
    "            target_network.epsilon_decay(step)\n",
    "        \n",
    "        if terminated or truncated:\n",
    "            elapsed_time = time.time() - start_time\n",
    "            steps_per_sec = step / elapsed_time\n",
    "            metrics.end_episode()\n",
    "            episode_count += 1\n",
    "            \n",
    "            obs, _ = env.reset()\n",
    "            \n",
    "            if metrics.avg_reward > best_avg_reward and step > save_step:\n",
    "                best_avg_reward = metrics.avg_reward\n",
    "                torch.save({\n",
    "                    'step': step,\n",
    "                    'model_state_dict': q_network.state_dict(),\n",
    "                    'optimizer_state_dict': optimizer.state_dict(),\n",
    "                    'avg_reward': metrics.avg_reward,\n",
    "                }, f\"models/{name}_dqn_best_{step}.pth\")\n",
    "                \n",
    "            print(f\"\\rStep: {step:,}/{timesteps:,} | \"\n",
    "                    f\"Episodes: {episode_count} | \"\n",
    "                    f\"Avg Reward: {metrics.avg_reward:.1f} | \"\n",
    "                    f\"Epsilon: {q_network.epsilon:.3f} | \"\n",
    "                    f\"Steps/sec: {steps_per_sec:.1f}\", end=\"\\r\")\n",
    "            \n",
    "        if step % C == 0:\n",
    "            target_network.load_state_dict(q_network.state_dict())"
   ]
  },
  {
   "cell_type": "code",
   "execution_count": 16,
   "metadata": {},
   "outputs": [],
   "source": [
    "TIMESTEPS = 6000000\n",
    "LR = 2.5e-4\n",
    "BATCH_SIZE = 64\n",
    "C = 10000\n",
    "GAMMA = 0.99\n",
    "TRAIN_FREQ = 4\n",
    "DECAY_START = 0 \n",
    "FINAL_ANNEAL = 1000000"
   ]
  },
  {
   "cell_type": "code",
   "execution_count": 17,
   "metadata": {},
   "outputs": [
    {
     "name": "stdout",
     "output_type": "stream",
     "text": [
      "50000\n"
     ]
    }
   ],
   "source": [
    "buffer_pong, env_pong = load_buffer(50000, 150000, game='PongNoFrameskip-v4')"
   ]
  },
  {
   "cell_type": "code",
   "execution_count": 20,
   "metadata": {},
   "outputs": [
    {
     "name": "stdout",
     "output_type": "stream",
     "text": [
      "Step: 5,999,953/6,000,000 | Episodes: 3033 | Avg Reward: 16.4 | Epsilon: 0.100 | Steps/sec: 326.8\r"
     ]
    }
   ],
   "source": [
    "q_network_pong = DQN(env_pong, decay_steps=FINAL_ANNEAL).to(device)\n",
    "target_network_pong = DQN(env_pong, decay_steps=FINAL_ANNEAL).to(device)\n",
    "target_network_pong.load_state_dict(q_network_pong.state_dict())\n",
    "optimizer_pong = torch.optim.Adam(q_network_pong.parameters(), lr=LR)\n",
    "\n",
    "metrics = MetricTracker()\n",
    "\n",
    "train(\n",
    "    env=env_pong,\n",
    "    q_network=q_network_pong, \n",
    "    name='pong',\n",
    "    target_network=target_network_pong, \n",
    "    optimizer=optimizer_pong, \n",
    "    timesteps=TIMESTEPS, \n",
    "    replay=buffer_pong, \n",
    "    metrics=metrics, \n",
    "    train_freq=TRAIN_FREQ, \n",
    "    batch_size=BATCH_SIZE, \n",
    "    gamma=GAMMA, \n",
    "    decay_start=DECAY_START,\n",
    "    C=C,\n",
    "    best_avg_reward=-float('inf'),\n",
    "    scheduler_step=4000000,\n",
    "    save_step=5700000 # dont want to save too many models :P\n",
    ")"
   ]
  },
  {
   "cell_type": "code",
   "execution_count": 8,
   "metadata": {},
   "outputs": [],
   "source": [
    "def test(game, model, num_eps=2):\n",
    "    env_test = make_env(game, render='human')\n",
    "\n",
    "    q_network_trained = DQN(env_test)\n",
    "    q_network_trained.load_state_dict(torch.load(model, weights_only=False)['model_state_dict'])\n",
    "    q_network_trained.eval()\n",
    "    q_network_trained.epsilon = 0.05\n",
    "    \n",
    "    \n",
    "    rewards_list = []\n",
    "\n",
    "    for episode in range(num_eps):\n",
    "        print(f'Episode {episode}', end='\\r', flush=True)\n",
    "        obs, _ = env_test.reset()\n",
    "        done = False\n",
    "        total_reward = 0\n",
    "        \n",
    "        while not done:\n",
    "            batched_obs = np.expand_dims(obs.squeeze(), axis=0)\n",
    "            action = q_network_trained.epsilon_greedy(torch.as_tensor(batched_obs, dtype=torch.float32)).cpu().item()\n",
    "                \n",
    "            next_observation, reward, terminated, truncated, _ = env_test.step(action)\n",
    "            total_reward += reward\n",
    "            obs = next_observation\n",
    "\n",
    "            done = terminated or truncated\n",
    "            \n",
    "        rewards_list.append(total_reward)\n",
    "\n",
    "    env_test.close()\n",
    "    print(f'Average episode reward achieved: {np.mean(rewards_list)}')"
   ]
  },
  {
   "cell_type": "code",
   "execution_count": 9,
   "metadata": {},
   "outputs": [
    {
     "name": "stdout",
     "output_type": "stream",
     "text": [
      "Average episode reward achieved: 19.0\n"
     ]
    }
   ],
   "source": [
    "test('PongNoFrameskip-v4', 'models/pong_dqn_best_6M.pth')"
   ]
  },
  {
   "cell_type": "markdown",
   "metadata": {},
   "source": [
    "Not too bad! "
   ]
  },
  {
   "cell_type": "markdown",
   "metadata": {},
   "source": [
    "#### Now lets train Breakout"
   ]
  },
  {
   "cell_type": "code",
   "execution_count": 21,
   "metadata": {},
   "outputs": [
    {
     "name": "stdout",
     "output_type": "stream",
     "text": [
      "50000\n"
     ]
    }
   ],
   "source": [
    "buffer_breakout, env_breakout = load_buffer(50000, 150000, 'BreakoutNoFrameskip-v4')"
   ]
  },
  {
   "cell_type": "code",
   "execution_count": 22,
   "metadata": {},
   "outputs": [],
   "source": [
    "TIMESTEPS = 4000000\n",
    "LR = 2.5e-4\n",
    "BATCH_SIZE = 64\n",
    "C = 6000\n",
    "GAMMA = 0.99\n",
    "TRAIN_FREQ = 4\n",
    "DECAY_START = 200000\n",
    "FINAL_ANNEAL = 1000000"
   ]
  },
  {
   "cell_type": "code",
   "execution_count": 23,
   "metadata": {},
   "outputs": [
    {
     "name": "stdout",
     "output_type": "stream",
     "text": [
      "Step: 3,999,245/4,000,000 | Episodes: 8198 | Avg Reward: 24.3 | Epsilon: 0.100 | Steps/sec: 316.1\r"
     ]
    }
   ],
   "source": [
    "q_network_breakout = DQN(env_breakout, decay_steps=FINAL_ANNEAL).to(device)\n",
    "target_network_breakout = DQN(env_breakout, decay_steps=FINAL_ANNEAL).to(device)\n",
    "target_network_breakout.load_state_dict(q_network_breakout.state_dict())\n",
    "optimizer_breakout = torch.optim.Adam(q_network_breakout.parameters(), lr=LR)\n",
    "\n",
    "metrics_breakout = MetricTracker() \n",
    "\n",
    "train(\n",
    "    env=env_breakout,\n",
    "    name='breakout',\n",
    "    q_network=q_network_breakout, \n",
    "    target_network=target_network_breakout, \n",
    "    optimizer=optimizer_breakout, \n",
    "    timesteps=TIMESTEPS, \n",
    "    replay=buffer_breakout, \n",
    "    metrics=metrics_breakout, \n",
    "    train_freq=TRAIN_FREQ, \n",
    "    batch_size=BATCH_SIZE, \n",
    "    gamma=GAMMA, \n",
    "    decay_start=DECAY_START,\n",
    "    C=C,\n",
    "    scheduler_step=3000000,\n",
    "    best_avg_reward=-float('inf'),\n",
    "    save_step=4700000\n",
    ")"
   ]
  },
  {
   "cell_type": "markdown",
   "metadata": {},
   "source": [
    "Lets test"
   ]
  },
  {
   "cell_type": "code",
   "execution_count": 27,
   "metadata": {},
   "outputs": [
    {
     "name": "stdout",
     "output_type": "stream",
     "text": [
      "Average episode reward achieved: 28.6\n"
     ]
    }
   ],
   "source": [
    "test('BreakoutNoFrameskip-v4', 'models/breakout_dqn_best_4M.pth')"
   ]
  }
 ],
 "metadata": {
  "accelerator": "GPU",
  "colab": {
   "gpuType": "T4",
   "provenance": []
  },
  "kernelspec": {
   "display_name": ".venv",
   "language": "python",
   "name": "python3"
  },
  "language_info": {
   "codemirror_mode": {
    "name": "ipython",
    "version": 3
   },
   "file_extension": ".py",
   "mimetype": "text/x-python",
   "name": "python",
   "nbconvert_exporter": "python",
   "pygments_lexer": "ipython3",
   "version": "3.12.5"
  }
 },
 "nbformat": 4,
 "nbformat_minor": 4
}
